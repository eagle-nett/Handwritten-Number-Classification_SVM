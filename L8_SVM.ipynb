{
 "cells": [
  {
   "cell_type": "code",
   "execution_count": 19,
   "id": "485558f3-1ec7-4e18-a8ee-5677c23a33a9",
   "metadata": {},
   "outputs": [],
   "source": [
    "import matplotlib.pyplot as plt\n",
    "import numpy as np\n",
    "import os\n",
    "\n",
    "from sklearn.datasets import load_files\n",
    "from pyvi import ViTokenizer\n",
    "from sklearn import svm\n",
    "from sklearn.feature_extraction.text import CountVectorizer, TfidfVectorizer\n",
    "from sklearn.feature_extraction.text import TfidfTransformer\n",
    "from sklearn.model_selection import train_test_split, GridSearchCV\n",
    "from sklearn.pipeline import Pipeline\n",
    "from sklearn.model_selection import ShuffleSplit\n",
    "from sklearn.model_selection import learning_curve\n",
    "\n",
    "%matplotlib inline"
   ]
  },
  {
   "cell_type": "code",
   "execution_count": 6,
   "id": "824c9913-875b-4d2e-a221-73ecaf80afde",
   "metadata": {},
   "outputs": [
    {
     "name": "stdout",
     "output_type": "stream",
     "text": [
      "Danh sách các nhãn: ['doi-song', 'du-lich', 'giai-tri', 'giao-duc', 'khoa-hoc', 'kinh-doanh', 'phap-luat', 'suc-khoe', 'the-thao', 'thoi-su']\n"
     ]
    }
   ],
   "source": [
    "# Định nghĩa đường dẫn tới dữ liệu\n",
    "DATA_PATH = \"data/news_vnexpress/\"\n",
    "\n",
    "# Tải dữ liệu từ thư mục chứa các văn bản\n",
    "data_train = load_files(container_path=DATA_PATH, encoding=\"utf-8\")\n",
    "\n",
    "# Hiển thị danh sách nhãn có trong dữ liệu\n",
    "print(\"Danh sách các nhãn:\", data_train.target_names)\n"
   ]
  },
  {
   "cell_type": "code",
   "execution_count": 5,
   "id": "f2666212-8dee-48b3-b7b7-8c93578c9de7",
   "metadata": {},
   "outputs": [
    {
     "name": "stdout",
     "output_type": "stream",
     "text": [
      "Số lượng văn bản: 1339, Số từ đặc trưng: 12947\n"
     ]
    }
   ],
   "source": [
    "# Khởi tạo bộ chuyển đổi TF-IDF\n",
    "vectorizer = Pipeline([\n",
    "    ('vect', CountVectorizer(stop_words=\"english\")),  # Loại bỏ từ dừng\n",
    "    ('tfidf', TfidfTransformer()),  # Chuyển thành ma trận TF-IDF\n",
    "])\n",
    "\n",
    "# Áp dụng vectorizer lên dữ liệu\n",
    "X = vectorizer.fit_transform(data_train.data)\n",
    "y = data_train.target\n",
    "\n",
    "# Hiển thị kích thước dữ liệu sau khi xử lý\n",
    "print(f\"Số lượng văn bản: {X.shape[0]}, Số từ đặc trưng: {X.shape[1]}\")\n"
   ]
  },
  {
   "cell_type": "code",
   "execution_count": 7,
   "id": "7e5c08ff-92a4-4f95-98cd-77760661cfc7",
   "metadata": {},
   "outputs": [
    {
     "name": "stdout",
     "output_type": "stream",
     "text": [
      "Kích thước tập train: (1071, 12947)\n",
      "Kích thước tập test: (268, 12947)\n"
     ]
    }
   ],
   "source": [
    "# Chia dữ liệu thành 80% train, 20% test\n",
    "X_train, X_test, y_train, y_test = train_test_split(X, y, test_size=0.2, random_state=42)\n",
    "\n",
    "print(\"Kích thước tập train:\", X_train.shape)\n",
    "print(\"Kích thước tập test:\", X_test.shape)\n"
   ]
  },
  {
   "cell_type": "code",
   "execution_count": 8,
   "id": "8b3c6623-4b57-4bf4-8484-bba3223a3d8c",
   "metadata": {},
   "outputs": [
    {
     "name": "stdout",
     "output_type": "stream",
     "text": [
      "- Đang huấn luyện mô hình SVM ...\n",
      "- Hoàn thành huấn luyện\n"
     ]
    }
   ],
   "source": [
    "# Khởi tạo mô hình SVM với kernel tuyến tính\n",
    "model = svm.SVC(kernel='linear', C=1.0)\n",
    "\n",
    "# Huấn luyện mô hình trên tập train\n",
    "print(\"- Đang huấn luyện mô hình SVM ...\")\n",
    "model.fit(X_train, y_train)\n",
    "print(\"- Hoàn thành huấn luyện\")\n"
   ]
  },
  {
   "cell_type": "code",
   "execution_count": 21,
   "id": "b96a3015-78be-4edf-be4c-173ac96540a5",
   "metadata": {},
   "outputs": [
    {
     "name": "stdout",
     "output_type": "stream",
     "text": [
      "Độ chính xác của mô hình: 0.9179\n"
     ]
    }
   ],
   "source": [
    "# Dự đoán\n",
    "y_pred = model.predict(X_test)\n",
    "\n",
    "# Tính độ chính xác\n",
    "accuracy = accuracy_score(y_test, y_pred)\n",
    "print(f\"Độ chính xác của mô hình: {accuracy:.4f}\")\n"
   ]
  },
  {
   "cell_type": "code",
   "execution_count": 10,
   "id": "d5087306-5ef2-4c75-a2e5-cc1b48552ad3",
   "metadata": {},
   "outputs": [
    {
     "name": "stdout",
     "output_type": "stream",
     "text": [
      "Văn bản thuộc nhãn: the-thao\n"
     ]
    }
   ],
   "source": [
    "# Văn bản mới cần phân loại\n",
    "news = [\"Công Phượng ghi bàn thắng giúp đội tuyển Việt Nam chiến thắng\"]\n",
    "\n",
    "# Tiền xử lý và chuyển đổi thành dạng vector\n",
    "news_vectorized = vectorizer.transform(news)\n",
    "\n",
    "# Dự đoán nhãn\n",
    "pred = model.predict(news_vectorized)\n",
    "\n",
    "# Hiển thị kết quả\n",
    "print(f\"Văn bản thuộc nhãn: {data_train.target_names[pred[0]]}\")\n"
   ]
  },
  {
   "cell_type": "markdown",
   "id": "d99ed8c8-4705-4095-9158-fd5473a30688",
   "metadata": {},
   "source": [
    "### Làm phương án 2 (chưa bt đúng k), Chờ thầy sửa"
   ]
  },
  {
   "cell_type": "code",
   "execution_count": 11,
   "id": "3072a642-1209-48ec-bcef-353ea0ba8b6e",
   "metadata": {},
   "outputs": [
    {
     "name": "stdout",
     "output_type": "stream",
     "text": [
      "Số lượng văn bản    Nhãn                          \n",
      "--------------------------------------------------\n",
      "120                 doi-song                      \n",
      "54                  du-lich                       \n",
      "201                 giai-tri                      \n",
      "105                 giao-duc                      \n",
      "144                 khoa-hoc                      \n",
      "262                 kinh-doanh                    \n",
      "59                  phap-luat                     \n",
      "162                 suc-khoe                      \n",
      "173                 the-thao                      \n",
      "59                  thoi-su                       \n",
      "--------------------------------------------------\n",
      "Tổng số văn bản: 1339\n",
      "['doi-song', 'du-lich', 'giai-tri', 'giao-duc', 'khoa-hoc', 'kinh-doanh', 'phap-luat', 'suc-khoe', 'the-thao', 'thoi-su']\n"
     ]
    }
   ],
   "source": [
    "import os\n",
    "from sklearn.datasets import load_files\n",
    "\n",
    "# Định nghĩa đường dẫn tới dữ liệu\n",
    "DATA_PATH = \"data/news_vnexpress/\"\n",
    "\n",
    "# In thông tin về số lượng văn bản trong từng nhãn\n",
    "header = \"%-20s%-30s\" % (\"Số lượng văn bản\", \"Nhãn\")\n",
    "print(header)\n",
    "print(\"-\" * 50)\n",
    "\n",
    "total = 0\n",
    "for label in os.listdir(DATA_PATH):\n",
    "    n = len(os.listdir(os.path.join(DATA_PATH, label)))\n",
    "    total += n\n",
    "    entry = \"%-20d%-30s\" % (n, label)\n",
    "    print(entry)\n",
    "\n",
    "print(\"-\" * 50)\n",
    "print(f\"Tổng số văn bản: {total}\")\n",
    "\n",
    "# Load dữ liệu văn bản\n",
    "data_train = load_files(container_path=DATA_PATH, encoding=\"utf-8\")\n",
    "\n",
    "# Hiển thị danh sách các nhãn\n",
    "print(data_train.target_names)\n"
   ]
  },
  {
   "cell_type": "code",
   "execution_count": 12,
   "id": "74a10b4e-be8b-4541-bcc3-eff25c0bf366",
   "metadata": {},
   "outputs": [
    {
     "name": "stdout",
     "output_type": "stream",
     "text": [
      "Tổng số lượng từ dừng: 2063\n",
      "10 từ dừng đầu tiên: ['a_lô', 'a_ha', 'ai', 'ai_ai', 'ai_nấy', 'ai_đó', 'alô', 'amen', 'anh', 'anh_ấy']\n"
     ]
    }
   ],
   "source": [
    "# Đọc danh sách stopwords tiếng Việt\n",
    "with open(\"data/vietnamese-stopwords.txt\", encoding='utf-8') as f:\n",
    "    stopwords = f.readlines()\n",
    "\n",
    "# Chuẩn hóa danh sách stopwords\n",
    "stopwords = [x.strip().replace(\" \", \"_\") for x in stopwords]\n",
    "\n",
    "print(f\"Tổng số lượng từ dừng: {len(stopwords)}\")\n",
    "print(\"10 từ dừng đầu tiên:\", stopwords[:10])\n"
   ]
  },
  {
   "cell_type": "code",
   "execution_count": 13,
   "id": "92c6a3b9-64d0-4e1d-81d0-78be571a1880",
   "metadata": {},
   "outputs": [
    {
     "name": "stdout",
     "output_type": "stream",
     "text": [
      "Số chiều của dữ liệu: (1339, 12796)\n"
     ]
    }
   ],
   "source": [
    "from sklearn.feature_extraction.text import CountVectorizer, TfidfTransformer\n",
    "from sklearn.pipeline import Pipeline\n",
    "\n",
    "# Tạo pipeline để tiền xử lý dữ liệu\n",
    "module_count_vector = CountVectorizer(stop_words=stopwords)\n",
    "model_rf_preprocess = Pipeline([\n",
    "    ('vect', module_count_vector),\n",
    "    ('tfidf', TfidfTransformer()),\n",
    "])\n",
    "\n",
    "# Chuyển đổi dữ liệu văn bản thành dạng ma trận\n",
    "data_preprocessed = model_rf_preprocess.fit_transform(data_train.data, data_train.target)\n",
    "\n",
    "# Hiển thị kích thước dữ liệu sau khi chuyển đổi\n",
    "print(f\"Số chiều của dữ liệu: {data_preprocessed.shape}\")\n"
   ]
  },
  {
   "cell_type": "code",
   "execution_count": 14,
   "id": "88ca9dbb-4482-439d-be42-e0af2b7434cf",
   "metadata": {},
   "outputs": [
    {
     "name": "stdout",
     "output_type": "stream",
     "text": [
      "Dữ liệu training = (1071, 12796) (1071,)\n",
      "Dữ liệu testing = (268, 12796) (268,)\n"
     ]
    }
   ],
   "source": [
    "from sklearn.model_selection import train_test_split\n",
    "\n",
    "# Chia dữ liệu thành train và test (80% - 20%)\n",
    "X_train, X_test, y_train, y_test = train_test_split(\n",
    "    data_preprocessed, data_train.target, test_size=0.2, random_state=42\n",
    ")\n",
    "\n",
    "# Hiển thị kích thước dữ liệu sau khi chia\n",
    "print(\"Dữ liệu training =\", X_train.shape, y_train.shape)\n",
    "print(\"Dữ liệu testing =\", X_test.shape, y_test.shape)\n"
   ]
  },
  {
   "cell_type": "code",
   "execution_count": 15,
   "id": "0d3d9c8e-400b-4fb7-addb-918b3f9e7544",
   "metadata": {},
   "outputs": [
    {
     "name": "stdout",
     "output_type": "stream",
     "text": [
      "- Training ...\n",
      "- Model train complete\n"
     ]
    }
   ],
   "source": [
    "from sklearn import svm\n",
    "\n",
    "# Khởi tạo mô hình SVM\n",
    "model = svm.SVC(kernel='linear', C=1.0)\n",
    "\n",
    "# Huấn luyện mô hình\n",
    "print(\"- Training ...\")\n",
    "model.fit(X_train, y_train)\n",
    "print(\"- Model train complete\")\n"
   ]
  },
  {
   "cell_type": "code",
   "execution_count": 16,
   "id": "6fe488ef-2c8c-42bc-806f-34c486f017f7",
   "metadata": {},
   "outputs": [
    {
     "name": "stdout",
     "output_type": "stream",
     "text": [
      "- Testing ...\n",
      "- Accuracy = 0.9179\n"
     ]
    }
   ],
   "source": [
    "from sklearn.metrics import accuracy_score\n",
    "\n",
    "# Dự đoán trên tập kiểm tra\n",
    "print(\"- Testing ...\")\n",
    "y_pred = model.predict(X_test)\n",
    "\n",
    "# Tính độ chính xác\n",
    "acc = accuracy_score(y_test, y_pred)\n",
    "print(f\"- Accuracy = {acc:.4f}\")\n"
   ]
  },
  {
   "cell_type": "code",
   "execution_count": 17,
   "id": "677a18c0-3618-49e4-aceb-864645e371c9",
   "metadata": {},
   "outputs": [
    {
     "name": "stdout",
     "output_type": "stream",
     "text": [
      "Văn bản thuộc nhãn: the-thao\n"
     ]
    }
   ],
   "source": [
    "# Văn bản mới cần phân loại\n",
    "news = [\"Công Phượng ghi bàn cho đội tuyển Việt Nam\"]\n",
    "\n",
    "# Tiền xử lý dữ liệu\n",
    "preprocessed_news = model_rf_preprocess.transform(news)\n",
    "\n",
    "# Dự đoán nhãn\n",
    "pred = model.predict(preprocessed_news)\n",
    "\n",
    "# Hiển thị kết quả\n",
    "print(f\"Văn bản thuộc nhãn: {data_train.target_names[pred[0]]}\")\n"
   ]
  },
  {
   "cell_type": "code",
   "execution_count": 18,
   "id": "03f43be1-0780-49c8-845a-e05d7f7fb7c2",
   "metadata": {},
   "outputs": [
    {
     "name": "stdout",
     "output_type": "stream",
     "text": [
      "Số lượng văn bản trong data_train.data: 1339\n",
      "Số lượng ids trong data_train.target: 1339\n",
      "Số lượng filenames trong data_train.filenames: 1339\n"
     ]
    }
   ],
   "source": [
    "# Kiểm tra số lượng văn bản trong tập dữ liệu\n",
    "num_documents = len(data_train.data)\n",
    "print(f\"Số lượng văn bản trong data_train.data: {num_documents}\")\n",
    "\n",
    "# Kiểm tra số lượng nhãn (target)\n",
    "num_targets = len(data_train.target)\n",
    "print(f\"Số lượng ids trong data_train.target: {num_targets}\")\n",
    "\n",
    "# Kiểm tra số lượng filenames\n",
    "num_filenames = len(data_train.filenames)\n",
    "print(f\"Số lượng filenames trong data_train.filenames: {num_filenames}\")\n"
   ]
  },
  {
   "cell_type": "code",
   "execution_count": 18,
   "id": "fd49ba30-7e8c-42ab-85d7-8963a3b18dd9",
   "metadata": {},
   "outputs": [
    {
     "data": {
      "image/png": "[encoded data removed]",
      "text/plain": [
       "<Figure size 640x480 with 4 Axes>"
      ]
     },
     "metadata": {},
     "output_type": "display_data"
    }
   ],
   "source": [
    "# Standard scientific Python imports\n",
    "import matplotlib.pyplot as plt\n",
    "\n",
    "# Import datasets, classifiers and performance metrics\n",
    "from sklearn import datasets, svm, metrics\n",
    "\n",
    "# The digits dataset\n",
    "digits = datasets.load_digits()\n",
    "\n",
    "# The data that we are interested in is made of 8x8 images of digits, let's\n",
    "# have a look at the first 4 images, stored in the `images` attribute of the\n",
    "# dataset.  If we were working from image files, we could load them using\n",
    "# matplotlib.pyplot.imread.  Note that each image must have the same size. For these\n",
    "# images, we know which digit they represent: it is given in the 'target' of\n",
    "# the dataset.\n",
    "# Hiển thị 4 ảnh đầu tiên trong tập dữ liệu\n",
    "images_and_labels = list(zip(digits.images, digits.target))\n",
    "for index, (image, label) in enumerate(images_and_labels[:4]):\n",
    "    plt.subplot(2, 4, index + 1)\n",
    "    plt.axis('off')\n",
    "    plt.imshow(image, cmap=plt.cm.gray_r, interpolation='nearest')\n",
    "    plt.title('Training: %i' % label)\n",
    "\n",
    "# To apply a classifier on this data, we need to flatten the image, to\n",
    "# turn the data in a (samples, feature) matrix:\n",
    "n_samples = len(digits.images)\n",
    "data = digits.images.reshape((n_samples, -1))\n",
    "target = digits.target\n"
   ]
  },
  {
   "cell_type": "code",
   "execution_count": 19,
   "id": "efc80289-0287-4d75-8ca0-c91e79d734f4",
   "metadata": {},
   "outputs": [
    {
     "name": "stdout",
     "output_type": "stream",
     "text": [
      "- Training ...\n",
      "- Train size = (1071, 12947)\n",
      "- model - train complete\n",
      "- Testing ...\n",
      "- Acc = 0.9402985074626866\n"
     ]
    }
   ],
   "source": [
    "\"\"\"Bài tập\n",
    " - Đánh giá các tham số của mô hình SVM với bài toán phân loại ảnh\n",
    " - Gợi ý: Làm tương tự với phân loại văn bản phía trên\n",
    "\"\"\"\n",
    "######################\n",
    "print(\"- Training ...\")\n",
    "\n",
    "\n",
    "# X_train.shape\n",
    "print(\"- Train size = {}\".format(X_train.shape))\n",
    "model = svm.SVC(kernel='linear', C=1.0)\n",
    "model.fit(X_train, y_train)\n",
    "\n",
    "print(\"- model - train complete\")\n",
    "\n",
    "from sklearn.metrics import accuracy_score\n",
    "print(\"- Testing ...\")\n",
    "y_pred = model.predict(X_test)\n",
    "print(\"- Acc = {}\".format(accuracy_score(y_test, y_pred)))\n"
   ]
  },
  {
   "cell_type": "code",
   "execution_count": null,
   "id": "4649e399-91ab-4515-8698-596b155f6376",
   "metadata": {},
   "outputs": [],
   "source": []
  }
 ],
 "metadata": {
  "kernelspec": {
   "display_name": "Python 3 (ipykernel)",
   "language": "python",
   "name": "python3"
  },
  "language_info": {
   "codemirror_mode": {
    "name": "ipython",
    "version": 3
   },
   "file_extension": ".py",
   "mimetype": "text/x-python",
   "name": "python",
   "nbconvert_exporter": "python",
   "pygments_lexer": "ipython3",
   "version": "3.12.3"
  }
 },
 "nbformat": 4,
 "nbformat_minor": 5
}
